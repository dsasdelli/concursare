{
 "cells": [
  {
   "cell_type": "code",
   "execution_count": 1,
   "metadata": {},
   "outputs": [],
   "source": [
    "from transformers import AutoTokenizer, DataCollatorWithPadding, AutoModelForSequenceClassification, TFAutoModelForSequenceClassification, create_optimizer\n",
    "import pandas as pd\n",
    "from sklearn.model_selection import train_test_split\n",
    "import tensorflow as tf\n",
    "from tensorflow.python.keras.utils import pad_sequences\n",
    "import datasets"
   ]
  },
  {
   "attachments": {},
   "cell_type": "markdown",
   "metadata": {},
   "source": [
    "https://huggingface.co/docs/transformers/tasks/sequence_classification\n",
    "\n",
    "https://iq.opengenus.org/binary-text-classification-bert/\n",
    "\n",
    "https://towardsdatascience.com/text-classification-with-bert-in-pytorch-887965e5820f"
   ]
  },
  {
   "cell_type": "code",
   "execution_count": 12,
   "metadata": {},
   "outputs": [],
   "source": [
    "tokenizer = AutoTokenizer.from_pretrained('neuralmind/bert-base-portuguese-cased')"
   ]
  },
  {
   "cell_type": "code",
   "execution_count": 15,
   "metadata": {},
   "outputs": [],
   "source": [
    "def read_file(file):\n",
    "    df = pd.read_json(file)\n",
    "    return df"
   ]
  },
  {
   "cell_type": "markdown",
   "metadata": {},
   "source": [
    "### Leitura de arquivo"
   ]
  },
  {
   "cell_type": "code",
   "execution_count": 51,
   "metadata": {},
   "outputs": [
    {
     "data": {
      "text/html": [
       "<div>\n",
       "<style scoped>\n",
       "    .dataframe tbody tr th:only-of-type {\n",
       "        vertical-align: middle;\n",
       "    }\n",
       "\n",
       "    .dataframe tbody tr th {\n",
       "        vertical-align: top;\n",
       "    }\n",
       "\n",
       "    .dataframe thead th {\n",
       "        text-align: right;\n",
       "    }\n",
       "</style>\n",
       "<table border=\"1\" class=\"dataframe\">\n",
       "  <thead>\n",
       "    <tr style=\"text-align: right;\">\n",
       "      <th></th>\n",
       "      <th>id</th>\n",
       "      <th>subject</th>\n",
       "      <th>themes</th>\n",
       "      <th>year</th>\n",
       "      <th>examiner</th>\n",
       "      <th>entity</th>\n",
       "      <th>enunciation</th>\n",
       "      <th>nullified</th>\n",
       "      <th>outdated</th>\n",
       "      <th>answer</th>\n",
       "      <th>A</th>\n",
       "      <th>B</th>\n",
       "      <th>C</th>\n",
       "      <th>D</th>\n",
       "      <th>E</th>\n",
       "    </tr>\n",
       "  </thead>\n",
       "  <tbody>\n",
       "    <tr>\n",
       "      <th>0</th>\n",
       "      <td>Q2222376</td>\n",
       "      <td>Direito Constitucional</td>\n",
       "      <td>[Tribunais Regionais Eleitorais e Juízes Eleit...</td>\n",
       "      <td>2001</td>\n",
       "      <td>NCE-UFRJ</td>\n",
       "      <td>TRE-RJ</td>\n",
       "      <td>A correta composição do Tribunal Regional Elei...</td>\n",
       "      <td>False</td>\n",
       "      <td>False</td>\n",
       "      <td>C</td>\n",
       "      <td>sete juízes, sendo um desembargador, três juíz...</td>\n",
       "      <td>nove juízes, sendo dois desembargadores, dois ...</td>\n",
       "      <td>sete juízes, sendo dois desembargadores, dois ...</td>\n",
       "      <td>nove juízes, sendo três desembargadores, dois ...</td>\n",
       "      <td>no mínimo sete juízes, sendo dois desembargado...</td>\n",
       "    </tr>\n",
       "    <tr>\n",
       "      <th>1</th>\n",
       "      <td>Q2222375</td>\n",
       "      <td>Direito Constitucional</td>\n",
       "      <td>[Administração Pública – Disposições Gerais e ...</td>\n",
       "      <td>2001</td>\n",
       "      <td>NCE-UFRJ</td>\n",
       "      <td>TRE-RJ</td>\n",
       "      <td>A Constituição Federal assegura aos servidores...</td>\n",
       "      <td>False</td>\n",
       "      <td>False</td>\n",
       "      <td>B</td>\n",
       "      <td>seguro-desemprego, fundo de garantia do tempo ...</td>\n",
       "      <td>remuneração do trabalho noturno superior à do ...</td>\n",
       "      <td>aviso prévio proporcional ao tempo de serviço,...</td>\n",
       "      <td>proibição de trabalho noturno a menores de dez...</td>\n",
       "      <td>duração do trabalho normal não superior a oito...</td>\n",
       "    </tr>\n",
       "    <tr>\n",
       "      <th>2</th>\n",
       "      <td>Q2222374</td>\n",
       "      <td>Direito Constitucional</td>\n",
       "      <td>[Administração Pública – Disposições Gerais e ...</td>\n",
       "      <td>2001</td>\n",
       "      <td>NCE-UFRJ</td>\n",
       "      <td>TRE-RJ</td>\n",
       "      <td>Assinale a opção que contém apenas princípios ...</td>\n",
       "      <td>False</td>\n",
       "      <td>False</td>\n",
       "      <td>C</td>\n",
       "      <td>legalidade, imparcialidade, moralidade, eficiê...</td>\n",
       "      <td>impessoalidade, imparcialidade, moralidade, pu...</td>\n",
       "      <td>publicidade, legalidade, moralidade, eficiênci...</td>\n",
       "      <td>inafastabilidade, publicidade, legalidade, efi...</td>\n",
       "      <td>moralidade ,inamovibilidade, legalidade, publi...</td>\n",
       "    </tr>\n",
       "    <tr>\n",
       "      <th>3</th>\n",
       "      <td>Q2222373</td>\n",
       "      <td>Direito Constitucional</td>\n",
       "      <td>[Direitos Políticos]</td>\n",
       "      <td>2001</td>\n",
       "      <td>NCE-UFRJ</td>\n",
       "      <td>TRE-RJ</td>\n",
       "      <td>Podem concorrer validamente ao cargo de Govern...</td>\n",
       "      <td>False</td>\n",
       "      <td>False</td>\n",
       "      <td>D</td>\n",
       "      <td>brasileiro naturalizado e Governador já reelei...</td>\n",
       "      <td>prefeito reeleito e mulher de Governador de Es...</td>\n",
       "      <td>analfabeto e Deputado Federal;</td>\n",
       "      <td>o Governador substituto de Governador falecido...</td>\n",
       "      <td>brasileiro nato, com 21 anos de idade e Senador.</td>\n",
       "    </tr>\n",
       "    <tr>\n",
       "      <th>4</th>\n",
       "      <td>Q2222372</td>\n",
       "      <td>Direito Constitucional</td>\n",
       "      <td>[Direitos da Nacionalidade]</td>\n",
       "      <td>2001</td>\n",
       "      <td>NCE-UFRJ</td>\n",
       "      <td>TRE-RJ</td>\n",
       "      <td>Um brasileiro naturalizado e um brasileiro nat...</td>\n",
       "      <td>False</td>\n",
       "      <td>False</td>\n",
       "      <td>A</td>\n",
       "      <td>Presidente da Câmara dos Deputados e Senador;</td>\n",
       "      <td>Deputado Federal e juiz de paz;</td>\n",
       "      <td>Senador e Governador de Estado;</td>\n",
       "      <td>Presidente do Senado Federal e Vereador;</td>\n",
       "      <td>Ministro do Supremo Tribunal Federal e Deputad...</td>\n",
       "    </tr>\n",
       "  </tbody>\n",
       "</table>\n",
       "</div>"
      ],
      "text/plain": [
       "         id                 subject  \\\n",
       "0  Q2222376  Direito Constitucional   \n",
       "1  Q2222375  Direito Constitucional   \n",
       "2  Q2222374  Direito Constitucional   \n",
       "3  Q2222373  Direito Constitucional   \n",
       "4  Q2222372  Direito Constitucional   \n",
       "\n",
       "                                              themes  year  examiner  entity  \\\n",
       "0  [Tribunais Regionais Eleitorais e Juízes Eleit...  2001  NCE-UFRJ  TRE-RJ   \n",
       "1  [Administração Pública – Disposições Gerais e ...  2001  NCE-UFRJ  TRE-RJ   \n",
       "2  [Administração Pública – Disposições Gerais e ...  2001  NCE-UFRJ  TRE-RJ   \n",
       "3                               [Direitos Políticos]  2001  NCE-UFRJ  TRE-RJ   \n",
       "4                        [Direitos da Nacionalidade]  2001  NCE-UFRJ  TRE-RJ   \n",
       "\n",
       "                                         enunciation  nullified  outdated  \\\n",
       "0  A correta composição do Tribunal Regional Elei...      False     False   \n",
       "1  A Constituição Federal assegura aos servidores...      False     False   \n",
       "2  Assinale a opção que contém apenas princípios ...      False     False   \n",
       "3  Podem concorrer validamente ao cargo de Govern...      False     False   \n",
       "4  Um brasileiro naturalizado e um brasileiro nat...      False     False   \n",
       "\n",
       "  answer                                                  A  \\\n",
       "0      C  sete juízes, sendo um desembargador, três juíz...   \n",
       "1      B  seguro-desemprego, fundo de garantia do tempo ...   \n",
       "2      C  legalidade, imparcialidade, moralidade, eficiê...   \n",
       "3      D  brasileiro naturalizado e Governador já reelei...   \n",
       "4      A      Presidente da Câmara dos Deputados e Senador;   \n",
       "\n",
       "                                                   B  \\\n",
       "0  nove juízes, sendo dois desembargadores, dois ...   \n",
       "1  remuneração do trabalho noturno superior à do ...   \n",
       "2  impessoalidade, imparcialidade, moralidade, pu...   \n",
       "3  prefeito reeleito e mulher de Governador de Es...   \n",
       "4                    Deputado Federal e juiz de paz;   \n",
       "\n",
       "                                                   C  \\\n",
       "0  sete juízes, sendo dois desembargadores, dois ...   \n",
       "1  aviso prévio proporcional ao tempo de serviço,...   \n",
       "2  publicidade, legalidade, moralidade, eficiênci...   \n",
       "3                     analfabeto e Deputado Federal;   \n",
       "4                    Senador e Governador de Estado;   \n",
       "\n",
       "                                                   D  \\\n",
       "0  nove juízes, sendo três desembargadores, dois ...   \n",
       "1  proibição de trabalho noturno a menores de dez...   \n",
       "2  inafastabilidade, publicidade, legalidade, efi...   \n",
       "3  o Governador substituto de Governador falecido...   \n",
       "4           Presidente do Senado Federal e Vereador;   \n",
       "\n",
       "                                                   E  \n",
       "0  no mínimo sete juízes, sendo dois desembargado...  \n",
       "1  duração do trabalho normal não superior a oito...  \n",
       "2  moralidade ,inamovibilidade, legalidade, publi...  \n",
       "3   brasileiro nato, com 21 anos de idade e Senador.  \n",
       "4  Ministro do Supremo Tribunal Federal e Deputad...  "
      ]
     },
     "execution_count": 51,
     "metadata": {},
     "output_type": "execute_result"
    }
   ],
   "source": [
    "df = read_file(\"DIR_CON_ME_2000_2025_20240406_102248.json\")\n",
    "df = pd.concat([df.drop(['options'], axis=1), pd.json_normalize(df['options'])], axis=1)\n",
    "df = df.iloc[:, :-1]\n",
    "df.head()"
   ]
  },
  {
   "cell_type": "code",
   "execution_count": 52,
   "metadata": {},
   "outputs": [
    {
     "name": "stdout",
     "output_type": "stream",
     "text": [
      "Antes de dropar: 38823\n",
      "Depois de dropar: 38800\n"
     ]
    }
   ],
   "source": [
    "print(f\"Antes de dropar: {len(df)}\")\n",
    "df = df.dropna(subset=[\"A\", \"B\", \"C\", \"D\"])\n",
    "print(f\"Depois de dropar: {len(df)}\")"
   ]
  },
  {
   "attachments": {},
   "cell_type": "markdown",
   "metadata": {},
   "source": [
    "Cada coluna de resposta ficará em uma linha agora"
   ]
  },
  {
   "cell_type": "code",
   "execution_count": 55,
   "metadata": {},
   "outputs": [],
   "source": [
    "df_exp = df.melt(id_vars=[\"id\", \"subject\", \"themes\", \"year\", \"examiner\", \"entity\", \"enunciation\", \"nullified\", \"outdated\", \"answer\"], value_vars=[\"A\", \"B\", \"C\", \"D\", \"E\"], var_name=\"candidate_answer_id\", value_name='candidate_answer_text')\n",
    "df_exp = df_exp.dropna(subset=[\"candidate_answer_text\"])"
   ]
  },
  {
   "cell_type": "code",
   "execution_count": 63,
   "metadata": {},
   "outputs": [],
   "source": [
    "def preprocess_function(df: pd.DataFrame):\n",
    "    enunciations = df['enunciation'].to_list()\n",
    "    answers = df[\"candidate_answer_text\"].to_list()\n",
    "\n",
    "    tokenized_examples = tokenizer(enunciations, answers, max_length = MAX_LENGTH, truncation=True)\n",
    "    return {k: [v[i : i + 4] for i in range(0, len(v), 4)] for k, v in tokenized_examples.items()}\n",
    "\n",
    "def tokenize(df: pd.DataFrame, MAX_LENGTH = 512):\n",
    "  def tokenize(sentence: str):\n",
    "    return tokenizer(sentence, padding='max_length', max_length = MAX_LENGTH, truncation=True, return_tensors=\"tf\")\n",
    "\n",
    "  return [tokenize(sentence) for sentence in df['enunciation']]"
   ]
  },
  {
   "cell_type": "code",
   "execution_count": 59,
   "metadata": {},
   "outputs": [
    {
     "data": {
      "text/plain": [
       "['m', 'oi', 'm', 'oi2']"
      ]
     },
     "execution_count": 59,
     "metadata": {},
     "output_type": "execute_result"
    }
   ],
   "source": [
    "x = [['m','oi'], ['m','oi2']]\n",
    "sum(x, [])"
   ]
  },
  {
   "cell_type": "code",
   "execution_count": 64,
   "metadata": {},
   "outputs": [
    {
     "name": "stderr",
     "output_type": "stream",
     "text": [
      "Asking to truncate to max_length but no maximum length is provided and the model has no predefined maximum length. Default to no truncation.\n"
     ]
    },
    {
     "ename": "MemoryError",
     "evalue": "",
     "output_type": "error",
     "traceback": [
      "\u001b[1;31m---------------------------------------------------------------------------\u001b[0m",
      "\u001b[1;31mMemoryError\u001b[0m                               Traceback (most recent call last)",
      "\u001b[1;32m<ipython-input-64-a38e16cbf91f>\u001b[0m in \u001b[0;36m<module>\u001b[1;34m\u001b[0m\n\u001b[1;32m----> 1\u001b[1;33m \u001b[0mx\u001b[0m \u001b[1;33m=\u001b[0m \u001b[0mpreprocess_function\u001b[0m\u001b[1;33m(\u001b[0m\u001b[0mdf_exp\u001b[0m\u001b[1;33m)\u001b[0m\u001b[1;33m\u001b[0m\u001b[1;33m\u001b[0m\u001b[0m\n\u001b[0m",
      "\u001b[1;32m<ipython-input-63-0b34f73e544b>\u001b[0m in \u001b[0;36mpreprocess_function\u001b[1;34m(df)\u001b[0m\n\u001b[0;32m      3\u001b[0m     \u001b[0manswers\u001b[0m \u001b[1;33m=\u001b[0m \u001b[0mdf\u001b[0m\u001b[1;33m[\u001b[0m\u001b[1;34m\"candidate_answer_text\"\u001b[0m\u001b[1;33m]\u001b[0m\u001b[1;33m.\u001b[0m\u001b[0mto_list\u001b[0m\u001b[1;33m(\u001b[0m\u001b[1;33m)\u001b[0m\u001b[1;33m\u001b[0m\u001b[1;33m\u001b[0m\u001b[0m\n\u001b[0;32m      4\u001b[0m \u001b[1;33m\u001b[0m\u001b[0m\n\u001b[1;32m----> 5\u001b[1;33m     \u001b[0mtokenized_examples\u001b[0m \u001b[1;33m=\u001b[0m \u001b[0mtokenizer\u001b[0m\u001b[1;33m(\u001b[0m\u001b[0menunciations\u001b[0m\u001b[1;33m,\u001b[0m \u001b[0manswers\u001b[0m\u001b[1;33m,\u001b[0m \u001b[0mtruncation\u001b[0m\u001b[1;33m=\u001b[0m\u001b[1;32mTrue\u001b[0m\u001b[1;33m)\u001b[0m\u001b[1;33m\u001b[0m\u001b[1;33m\u001b[0m\u001b[0m\n\u001b[0m\u001b[0;32m      6\u001b[0m     \u001b[1;32mreturn\u001b[0m \u001b[1;33m{\u001b[0m\u001b[0mk\u001b[0m\u001b[1;33m:\u001b[0m \u001b[1;33m[\u001b[0m\u001b[0mv\u001b[0m\u001b[1;33m[\u001b[0m\u001b[0mi\u001b[0m \u001b[1;33m:\u001b[0m \u001b[0mi\u001b[0m \u001b[1;33m+\u001b[0m \u001b[1;36m4\u001b[0m\u001b[1;33m]\u001b[0m \u001b[1;32mfor\u001b[0m \u001b[0mi\u001b[0m \u001b[1;32min\u001b[0m \u001b[0mrange\u001b[0m\u001b[1;33m(\u001b[0m\u001b[1;36m0\u001b[0m\u001b[1;33m,\u001b[0m \u001b[0mlen\u001b[0m\u001b[1;33m(\u001b[0m\u001b[0mv\u001b[0m\u001b[1;33m)\u001b[0m\u001b[1;33m,\u001b[0m \u001b[1;36m4\u001b[0m\u001b[1;33m)\u001b[0m\u001b[1;33m]\u001b[0m \u001b[1;32mfor\u001b[0m \u001b[0mk\u001b[0m\u001b[1;33m,\u001b[0m \u001b[0mv\u001b[0m \u001b[1;32min\u001b[0m \u001b[0mtokenized_examples\u001b[0m\u001b[1;33m.\u001b[0m\u001b[0mitems\u001b[0m\u001b[1;33m(\u001b[0m\u001b[1;33m)\u001b[0m\u001b[1;33m}\u001b[0m\u001b[1;33m\u001b[0m\u001b[1;33m\u001b[0m\u001b[0m\n\u001b[0;32m      7\u001b[0m \u001b[1;33m\u001b[0m\u001b[0m\n",
      "\u001b[1;32mc:\\ProgramData\\Anaconda3\\lib\\site-packages\\transformers\\tokenization_utils_base.py\u001b[0m in \u001b[0;36m__call__\u001b[1;34m(self, text, text_pair, add_special_tokens, padding, truncation, max_length, stride, is_split_into_words, pad_to_multiple_of, return_tensors, return_token_type_ids, return_attention_mask, return_overflowing_tokens, return_special_tokens_mask, return_offsets_mapping, return_length, verbose, **kwargs)\u001b[0m\n\u001b[0;32m   2441\u001b[0m                 )\n\u001b[0;32m   2442\u001b[0m             \u001b[0mbatch_text_or_text_pairs\u001b[0m \u001b[1;33m=\u001b[0m \u001b[0mlist\u001b[0m\u001b[1;33m(\u001b[0m\u001b[0mzip\u001b[0m\u001b[1;33m(\u001b[0m\u001b[0mtext\u001b[0m\u001b[1;33m,\u001b[0m \u001b[0mtext_pair\u001b[0m\u001b[1;33m)\u001b[0m\u001b[1;33m)\u001b[0m \u001b[1;32mif\u001b[0m \u001b[0mtext_pair\u001b[0m \u001b[1;32mis\u001b[0m \u001b[1;32mnot\u001b[0m \u001b[1;32mNone\u001b[0m \u001b[1;32melse\u001b[0m \u001b[0mtext\u001b[0m\u001b[1;33m\u001b[0m\u001b[1;33m\u001b[0m\u001b[0m\n\u001b[1;32m-> 2443\u001b[1;33m             return self.batch_encode_plus(\n\u001b[0m\u001b[0;32m   2444\u001b[0m                 \u001b[0mbatch_text_or_text_pairs\u001b[0m\u001b[1;33m=\u001b[0m\u001b[0mbatch_text_or_text_pairs\u001b[0m\u001b[1;33m,\u001b[0m\u001b[1;33m\u001b[0m\u001b[1;33m\u001b[0m\u001b[0m\n\u001b[0;32m   2445\u001b[0m                 \u001b[0madd_special_tokens\u001b[0m\u001b[1;33m=\u001b[0m\u001b[0madd_special_tokens\u001b[0m\u001b[1;33m,\u001b[0m\u001b[1;33m\u001b[0m\u001b[1;33m\u001b[0m\u001b[0m\n",
      "\u001b[1;32mc:\\ProgramData\\Anaconda3\\lib\\site-packages\\transformers\\tokenization_utils_base.py\u001b[0m in \u001b[0;36mbatch_encode_plus\u001b[1;34m(self, batch_text_or_text_pairs, add_special_tokens, padding, truncation, max_length, stride, is_split_into_words, pad_to_multiple_of, return_tensors, return_token_type_ids, return_attention_mask, return_overflowing_tokens, return_special_tokens_mask, return_offsets_mapping, return_length, verbose, **kwargs)\u001b[0m\n\u001b[0;32m   2632\u001b[0m         )\n\u001b[0;32m   2633\u001b[0m \u001b[1;33m\u001b[0m\u001b[0m\n\u001b[1;32m-> 2634\u001b[1;33m         return self._batch_encode_plus(\n\u001b[0m\u001b[0;32m   2635\u001b[0m             \u001b[0mbatch_text_or_text_pairs\u001b[0m\u001b[1;33m=\u001b[0m\u001b[0mbatch_text_or_text_pairs\u001b[0m\u001b[1;33m,\u001b[0m\u001b[1;33m\u001b[0m\u001b[1;33m\u001b[0m\u001b[0m\n\u001b[0;32m   2636\u001b[0m             \u001b[0madd_special_tokens\u001b[0m\u001b[1;33m=\u001b[0m\u001b[0madd_special_tokens\u001b[0m\u001b[1;33m,\u001b[0m\u001b[1;33m\u001b[0m\u001b[1;33m\u001b[0m\u001b[0m\n",
      "\u001b[1;32mc:\\ProgramData\\Anaconda3\\lib\\site-packages\\transformers\\tokenization_utils_fast.py\u001b[0m in \u001b[0;36m_batch_encode_plus\u001b[1;34m(self, batch_text_or_text_pairs, add_special_tokens, padding_strategy, truncation_strategy, max_length, stride, is_split_into_words, pad_to_multiple_of, return_tensors, return_token_type_ids, return_attention_mask, return_overflowing_tokens, return_special_tokens_mask, return_offsets_mapping, return_length, verbose)\u001b[0m\n\u001b[0;32m    434\u001b[0m         \u001b[1;31m#                    ]\u001b[0m\u001b[1;33m\u001b[0m\u001b[1;33m\u001b[0m\u001b[1;33m\u001b[0m\u001b[0m\n\u001b[0;32m    435\u001b[0m         \u001b[1;31m# with nested dimensions corresponding to batch, overflows, sequence length\u001b[0m\u001b[1;33m\u001b[0m\u001b[1;33m\u001b[0m\u001b[1;33m\u001b[0m\u001b[0m\n\u001b[1;32m--> 436\u001b[1;33m         tokens_and_encodings = [\n\u001b[0m\u001b[0;32m    437\u001b[0m             self._convert_encoding(\n\u001b[0;32m    438\u001b[0m                 \u001b[0mencoding\u001b[0m\u001b[1;33m=\u001b[0m\u001b[0mencoding\u001b[0m\u001b[1;33m,\u001b[0m\u001b[1;33m\u001b[0m\u001b[1;33m\u001b[0m\u001b[0m\n",
      "\u001b[1;32mc:\\ProgramData\\Anaconda3\\lib\\site-packages\\transformers\\tokenization_utils_fast.py\u001b[0m in \u001b[0;36m<listcomp>\u001b[1;34m(.0)\u001b[0m\n\u001b[0;32m    435\u001b[0m         \u001b[1;31m# with nested dimensions corresponding to batch, overflows, sequence length\u001b[0m\u001b[1;33m\u001b[0m\u001b[1;33m\u001b[0m\u001b[1;33m\u001b[0m\u001b[0m\n\u001b[0;32m    436\u001b[0m         tokens_and_encodings = [\n\u001b[1;32m--> 437\u001b[1;33m             self._convert_encoding(\n\u001b[0m\u001b[0;32m    438\u001b[0m                 \u001b[0mencoding\u001b[0m\u001b[1;33m=\u001b[0m\u001b[0mencoding\u001b[0m\u001b[1;33m,\u001b[0m\u001b[1;33m\u001b[0m\u001b[1;33m\u001b[0m\u001b[0m\n\u001b[0;32m    439\u001b[0m                 \u001b[0mreturn_token_type_ids\u001b[0m\u001b[1;33m=\u001b[0m\u001b[0mreturn_token_type_ids\u001b[0m\u001b[1;33m,\u001b[0m\u001b[1;33m\u001b[0m\u001b[1;33m\u001b[0m\u001b[0m\n",
      "\u001b[1;31mMemoryError\u001b[0m: "
     ]
    }
   ],
   "source": [
    "x = preprocess_function(df_exp)"
   ]
  },
  {
   "cell_type": "code",
   "execution_count": 4,
   "metadata": {},
   "outputs": [],
   "source": []
  },
  {
   "cell_type": "code",
   "execution_count": 5,
   "metadata": {},
   "outputs": [
    {
     "ename": "NameError",
     "evalue": "name 'df' is not defined",
     "output_type": "error",
     "traceback": [
      "\u001b[1;31m---------------------------------------------------------------------------\u001b[0m",
      "\u001b[1;31mNameError\u001b[0m                                 Traceback (most recent call last)",
      "\u001b[1;32m<ipython-input-5-8cedbdccf006>\u001b[0m in \u001b[0;36m<module>\u001b[1;34m\u001b[0m\n\u001b[1;32m----> 1\u001b[1;33m \u001b[0mtokenized\u001b[0m \u001b[1;33m=\u001b[0m \u001b[0mtokenize\u001b[0m\u001b[1;33m(\u001b[0m\u001b[0mdf\u001b[0m\u001b[1;33m)\u001b[0m\u001b[1;33m\u001b[0m\u001b[1;33m\u001b[0m\u001b[0m\n\u001b[0m",
      "\u001b[1;31mNameError\u001b[0m: name 'df' is not defined"
     ]
    }
   ],
   "source": [
    "tokenized = tokenize(df)"
   ]
  },
  {
   "cell_type": "code",
   "execution_count": null,
   "metadata": {},
   "outputs": [
    {
     "data": {
      "text/plain": [
       "'[CLS] Julgue o item a seguir, relativo aos servidores públicos e à administração pública. Caso ficasse demonstrado, em sede de processo administrativo regularmente realizado, que um agente de polícia federal recebera R $ 20. 000, 00 para deixar de realizar a prisão em flagrante de um traficante de drogas, então haveria de ser - lhe imposta, administrativamente, a pena de demissão. Todavia, se o agente fosse processado criminalmente pela prática do mesmo fato, simultaneamente à tramitação do processo administrativo, ele só poderia ser demitido após o trânsito em julgado da respectiva sentença condenatória. [SEP] [PAD] [PAD] [PAD] [PAD] [PAD] [PAD] [PAD] [PAD] [PAD] [PAD] [PAD] [PAD] [PAD] [PAD] [PAD] [PAD] [PAD] [PAD] [PAD] [PAD] [PAD] [PAD] [PAD] [PAD] [PAD] [PAD] [PAD] [PAD] [PAD] [PAD] [PAD] [PAD] [PAD] [PAD] [PAD] [PAD] [PAD] [PAD] [PAD] [PAD] [PAD] [PAD] [PAD] [PAD] [PAD] [PAD] [PAD] [PAD] [PAD] [PAD] [PAD] [PAD] [PAD] [PAD] [PAD] [PAD] [PAD] [PAD] [PAD] [PAD] [PAD] [PAD] [PAD] [PAD] [PAD] [PAD] [PAD] [PAD] [PAD] [PAD] [PAD] [PAD] [PAD] [PAD] [PAD] [PAD] [PAD] [PAD] [PAD] [PAD] [PAD] [PAD] [PAD] [PAD] [PAD] [PAD] [PAD] [PAD] [PAD] [PAD] [PAD] [PAD] [PAD] [PAD] [PAD] [PAD] [PAD] [PAD] [PAD] [PAD] [PAD] [PAD] [PAD] [PAD] [PAD] [PAD] [PAD] [PAD] [PAD] [PAD] [PAD] [PAD] [PAD] [PAD] [PAD] [PAD] [PAD] [PAD] [PAD] [PAD] [PAD] [PAD] [PAD] [PAD] [PAD] [PAD] [PAD] [PAD] [PAD] [PAD] [PAD] [PAD] [PAD] [PAD] [PAD] [PAD] [PAD] [PAD] [PAD] [PAD] [PAD] [PAD] [PAD] [PAD] [PAD] [PAD] [PAD] [PAD] [PAD] [PAD] [PAD] [PAD] [PAD] [PAD] [PAD] [PAD] [PAD] [PAD] [PAD] [PAD] [PAD] [PAD] [PAD] [PAD] [PAD] [PAD] [PAD] [PAD] [PAD] [PAD] [PAD] [PAD] [PAD] [PAD] [PAD] [PAD] [PAD] [PAD] [PAD] [PAD] [PAD] [PAD] [PAD] [PAD] [PAD] [PAD] [PAD] [PAD] [PAD] [PAD] [PAD] [PAD] [PAD] [PAD] [PAD] [PAD] [PAD] [PAD] [PAD] [PAD] [PAD] [PAD] [PAD] [PAD] [PAD] [PAD] [PAD] [PAD] [PAD] [PAD] [PAD] [PAD] [PAD] [PAD] [PAD] [PAD] [PAD] [PAD] [PAD] [PAD] [PAD] [PAD] [PAD] [PAD] [PAD] [PAD] [PAD] [PAD] [PAD] [PAD] [PAD] [PAD] [PAD] [PAD] [PAD] [PAD] [PAD] [PAD] [PAD] [PAD] [PAD] [PAD] [PAD] [PAD] [PAD] [PAD] [PAD] [PAD] [PAD] [PAD] [PAD] [PAD] [PAD] [PAD] [PAD] [PAD] [PAD] [PAD] [PAD] [PAD] [PAD] [PAD] [PAD] [PAD] [PAD] [PAD] [PAD] [PAD] [PAD] [PAD] [PAD] [PAD] [PAD] [PAD] [PAD] [PAD] [PAD] [PAD] [PAD] [PAD] [PAD] [PAD] [PAD] [PAD] [PAD] [PAD] [PAD] [PAD] [PAD] [PAD] [PAD] [PAD] [PAD] [PAD] [PAD] [PAD] [PAD] [PAD] [PAD] [PAD] [PAD] [PAD] [PAD] [PAD] [PAD] [PAD] [PAD] [PAD] [PAD] [PAD] [PAD] [PAD] [PAD] [PAD] [PAD] [PAD] [PAD] [PAD] [PAD] [PAD] [PAD] [PAD] [PAD] [PAD] [PAD] [PAD] [PAD] [PAD] [PAD] [PAD] [PAD] [PAD] [PAD] [PAD] [PAD] [PAD] [PAD] [PAD] [PAD] [PAD] [PAD] [PAD] [PAD] [PAD] [PAD] [PAD] [PAD] [PAD] [PAD] [PAD] [PAD] [PAD] [PAD] [PAD] [PAD] [PAD] [PAD] [PAD] [PAD] [PAD] [PAD] [PAD] [PAD] [PAD] [PAD] [PAD] [PAD] [PAD] [PAD] [PAD] [PAD] [PAD] [PAD] [PAD] [PAD] [PAD] [PAD] [PAD] [PAD] [PAD] [PAD] [PAD] [PAD] [PAD] [PAD] [PAD] [PAD] [PAD]'"
      ]
     },
     "execution_count": 7,
     "metadata": {},
     "output_type": "execute_result"
    }
   ],
   "source": [
    "example_text = tokenizer.decode(tokenized[0]['input_ids'][0])\n",
    "example_text"
   ]
  },
  {
   "cell_type": "markdown",
   "metadata": {},
   "source": [
    "### Classificação"
   ]
  },
  {
   "cell_type": "code",
   "execution_count": null,
   "metadata": {},
   "outputs": [],
   "source": [
    "id2label = {0: \"Errado\", 1: \"Certo\"}\n",
    "label2id = {\"Certo\": 0, \"Errado\": 1}"
   ]
  },
  {
   "cell_type": "code",
   "execution_count": null,
   "metadata": {},
   "outputs": [
    {
     "name": "stderr",
     "output_type": "stream",
     "text": [
      "All model checkpoint layers were used when initializing TFBertForSequenceClassification.\n",
      "\n",
      "Some layers of TFBertForSequenceClassification were not initialized from the model checkpoint at neuralmind/bert-base-portuguese-cased and are newly initialized: ['classifier', 'bert/pooler/dense/bias:0', 'bert/pooler/dense/kernel:0']\n",
      "You should probably TRAIN this model on a down-stream task to be able to use it for predictions and inference.\n"
     ]
    }
   ],
   "source": [
    "model = TFAutoModelForSequenceClassification.from_pretrained('neuralmind/bert-base-portuguese-cased', num_labels=2, id2label=id2label, label2id=label2id)"
   ]
  },
  {
   "cell_type": "code",
   "execution_count": null,
   "metadata": {},
   "outputs": [],
   "source": []
  }
 ],
 "metadata": {
  "interpreter": {
   "hash": "b3ba2566441a7c06988d0923437866b63cedc61552a5af99d1f4fb67d367b25f"
  },
  "kernelspec": {
   "display_name": "Python 3.8.5 64-bit ('base': conda)",
   "language": "python",
   "name": "python3"
  },
  "language_info": {
   "codemirror_mode": {
    "name": "ipython",
    "version": 3
   },
   "file_extension": ".py",
   "mimetype": "text/x-python",
   "name": "python",
   "nbconvert_exporter": "python",
   "pygments_lexer": "ipython3",
   "version": "3.11.0"
  },
  "orig_nbformat": 4
 },
 "nbformat": 4,
 "nbformat_minor": 2
}
